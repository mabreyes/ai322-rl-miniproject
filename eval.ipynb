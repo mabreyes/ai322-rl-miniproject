{
 "cells": [
  {
   "cell_type": "code",
   "execution_count": 1,
   "metadata": {},
   "outputs": [
    {
     "name": "stdout",
     "output_type": "stream",
     "text": [
      "|   Episode |   Steps |   Total Reward |\n",
      "|----------:|--------:|---------------:|\n",
      "|         1 |      50 |     -2.03209   |\n",
      "|      1000 |   50000 |     -2.13461   |\n",
      "|      2000 |  100000 |      0.278477  |\n",
      "|      3000 |  150000 |     -2.60664   |\n",
      "|      4000 |  200000 |     -0.675033  |\n",
      "|      4556 |  227800 |     -3.3273    |\n",
      "|      9321 |  466050 |     -3.84489   |\n",
      "|     10000 |  500000 |     -0.785109  |\n",
      "|     11000 |  550000 |      0.523002  |\n",
      "|     12000 |  585665 |     -0.098416  |\n",
      "|     13000 |  586667 |     -1.68988   |\n",
      "|     14000 |  587667 |      0.158719  |\n",
      "|     15003 |  588670 |      1.44751   |\n",
      "|     16000 |  589671 |     -0.0532499 |\n",
      "|     17000 |  590678 |     -0.0574592 |\n",
      "|     18000 |  591682 |     -0.717265  |\n",
      "|     19000 |  592682 |     -0.461128  |\n",
      "|     20000 |  593684 |      0.104513  |\n"
     ]
    }
   ],
   "source": [
    "import pandas as pd\n",
    "import re\n",
    "\n",
    "# File path\n",
    "file_path = \"train_v2_paperspace.txt\"\n",
    "\n",
    "\n",
    "# Define a function to parse each episode line and extract required information\n",
    "def parse_episode_info(line):\n",
    "    episode_match = re.search(r\"Episode: (\\d+)/\", line)\n",
    "    steps_match = re.search(r\"steps: \\d+\\[(\\d+)\\]\", line)\n",
    "    reward_match = re.search(r\"Total reward: ([\\d.-]+)\\[\", line)\n",
    "\n",
    "    if episode_match and steps_match and reward_match:\n",
    "        episode = int(episode_match.group(1))\n",
    "        steps = int(steps_match.group(1))\n",
    "        total_reward = float(reward_match.group(1))\n",
    "        return episode, steps, total_reward\n",
    "    return None\n",
    "\n",
    "\n",
    "# Read the file and extract the required episodes\n",
    "with open(file_path, \"r\") as file:\n",
    "    lines = file.readlines()\n",
    "\n",
    "# Filter the episodes\n",
    "target_episodes = range(0, 20001, 1000)\n",
    "episode_dict = {ep: None for ep in target_episodes}\n",
    "\n",
    "for line in lines:\n",
    "    if \"Episode\" in line:\n",
    "        episode_num = int(line.split(\":\")[1].split(\"/\")[0])\n",
    "        if episode_num in target_episodes:\n",
    "            episode_dict[episode_num] = line\n",
    "        else:\n",
    "            # Find the closest episode if the exact one is not found\n",
    "            closest = min(target_episodes, key=lambda x: abs(x - episode_num))\n",
    "            if episode_dict[closest] is None or abs(closest - episode_num) < abs(\n",
    "                closest - int(episode_dict[closest].split(\":\")[1].split(\"/\")[0])\n",
    "            ):\n",
    "                episode_dict[closest] = line\n",
    "\n",
    "# Parse the filtered episodes\n",
    "parsed_episodes = [\n",
    "    parse_episode_info(line) for line in episode_dict.values() if line is not None\n",
    "]\n",
    "parsed_episodes = [episode for episode in parsed_episodes if episode is not None]\n",
    "\n",
    "# Create a dataframe from the parsed episodes\n",
    "df_parsed_episodes = pd.DataFrame(\n",
    "    parsed_episodes, columns=[\"Episode\", \"Steps\", \"Total Reward\"]\n",
    ")\n",
    "\n",
    "print(df_parsed_episodes.to_markdown(index=False))"
   ]
  }
 ],
 "metadata": {
  "kernelspec": {
   "display_name": "ai_322",
   "language": "python",
   "name": "python3"
  },
  "language_info": {
   "codemirror_mode": {
    "name": "ipython",
    "version": 3
   },
   "file_extension": ".py",
   "mimetype": "text/x-python",
   "name": "python",
   "nbconvert_exporter": "python",
   "pygments_lexer": "ipython3",
   "version": "3.10.14"
  }
 },
 "nbformat": 4,
 "nbformat_minor": 2
}
